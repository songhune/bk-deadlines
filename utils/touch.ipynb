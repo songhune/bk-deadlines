{
 "cells": [
  {
   "cell_type": "code",
   "execution_count": 4,
   "metadata": {
    "dotnet_interactive": {
     "language": "csharp"
    },
    "polyglot_notebook": {
     "kernelName": "csharp"
    }
   },
   "outputs": [
    {
     "name": "stdout",
     "output_type": "stream",
     "text": [
      "YAML 파일이 ./output.csv로 성공적으로 변환되었습니다.\n"
     ]
    }
   ],
   "source": [
    "import yaml\n",
    "import csv\n",
    "\n",
    "# YAML 파일 경로를 받아 CSV로 변환하는 함수\n",
    "def yaml_to_csv(yaml_file_path, csv_file_path):\n",
    "    # YAML 파일을 읽어오기\n",
    "    with open(yaml_file_path, 'r') as file:\n",
    "        data = yaml.safe_load(file)\n",
    "    \n",
    "    # 모든 키를 가져와서 CSV의 헤더로 사용하기 위해 중복 없이 필드 이름 리스트 만들기\n",
    "    fieldnames = set()\n",
    "    for item in data:\n",
    "        fieldnames.update(item.keys())\n",
    "    fieldnames = list(fieldnames)\n",
    "\n",
    "    # CSV 파일로 저장하기\n",
    "    with open(csv_file_path, 'w', newline='') as file:\n",
    "        writer = csv.DictWriter(file, fieldnames=fieldnames)\n",
    "        writer.writeheader()\n",
    "        writer.writerows(data)\n",
    "\n",
    "    print(f\"YAML 파일이 {csv_file_path}로 성공적으로 변환되었습니다.\")\n",
    "\n",
    "# 예시 사용 방법\n",
    "yaml_file_path = '../_data/conferences.yml'  # 변환할 YAML 파일 경로\n",
    "csv_file_path = './output.csv'                   # 저장할 CSV 파일 경로\n",
    "\n",
    "yaml_to_csv(yaml_file_path, csv_file_path)"
   ]
  },
  {
   "cell_type": "code",
   "execution_count": 1,
   "metadata": {},
   "outputs": [
    {
     "data": {
      "text/plain": [
       "'/Users/songhune/Library/Mobile Documents/com~apple~CloudDocs/Workspace/bk-deadlines/utils'"
      ]
     },
     "execution_count": 1,
     "metadata": {},
     "output_type": "execute_result"
    }
   ],
   "source": [
    "pwd"
   ]
  },
  {
   "cell_type": "code",
   "execution_count": null,
   "metadata": {},
   "outputs": [],
   "source": []
  }
 ],
 "metadata": {
  "kernelspec": {
   "display_name": "Python 3",
   "language": "python",
   "name": "python3"
  },
  "language_info": {
   "codemirror_mode": {
    "name": "ipython",
    "version": 3
   },
   "file_extension": ".py",
   "mimetype": "text/x-python",
   "name": "python",
   "nbconvert_exporter": "python",
   "pygments_lexer": "ipython3",
   "version": "3.8.10"
  },
  "polyglot_notebook": {
   "kernelInfo": {
    "defaultKernelName": "csharp",
    "items": [
     {
      "aliases": [],
      "name": "csharp"
     }
    ]
   }
  }
 },
 "nbformat": 4,
 "nbformat_minor": 2
}
